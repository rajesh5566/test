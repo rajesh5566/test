{
 "cells": [
  {
   "cell_type": "code",
   "execution_count": 1,
   "id": "a260d867",
   "metadata": {},
   "outputs": [
    {
     "name": "stdout",
     "output_type": "stream",
     "text": [
      "I am Inquisitive\n"
     ]
    }
   ],
   "source": [
    "print(\"I am Inquisitive\")\n"
   ]
  },
  {
   "cell_type": "code",
   "execution_count": 13,
   "id": "cd7a0ffc",
   "metadata": {},
   "outputs": [
    {
     "name": "stdout",
     "output_type": "stream",
     "text": [
      "Are you Inquisitive (yes/no) :no\n",
      "need improvement\n"
     ]
    }
   ],
   "source": [
    "inq=input(\"Are you Inquisitive (yes/no) :\")\n",
    "if inq==\"yes\":\n",
    "    print(\"good\")\n",
    "else:\n",
    "    print(\"need improvement\")"
   ]
  },
  {
   "cell_type": "code",
   "execution_count": null,
   "id": "9eb6b4bf",
   "metadata": {},
   "outputs": [],
   "source": []
  },
  {
   "cell_type": "code",
   "execution_count": null,
   "id": "6855701f",
   "metadata": {},
   "outputs": [],
   "source": []
  }
 ],
 "metadata": {
  "kernelspec": {
   "display_name": "Python 3 (ipykernel)",
   "language": "python",
   "name": "python3"
  },
  "language_info": {
   "codemirror_mode": {
    "name": "ipython",
    "version": 3
   },
   "file_extension": ".py",
   "mimetype": "text/x-python",
   "name": "python",
   "nbconvert_exporter": "python",
   "pygments_lexer": "ipython3",
   "version": "3.9.13"
  }
 },
 "nbformat": 4,
 "nbformat_minor": 5
}
